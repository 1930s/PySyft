{
 "cells": [
  {
   "cell_type": "markdown",
   "metadata": {},
   "source": [
    "## Demo with contexts"
   ]
  },
  {
   "cell_type": "code",
   "execution_count": 1,
   "metadata": {},
   "outputs": [],
   "source": [
    "import syft as sy\n",
    "import torch\n",
    "from syft.mpc import spdz\n",
    "from syft.core.frameworks.torch import _GeneralizedPointerTensor as gpt\n",
    "from syft.core.frameworks.torch import _MPCTensor as mpct\n",
    "import syft.core.frameworks.torch.utils as torch_utils\n",
    "from syft.core.frameworks.torch.utils import chain_print"
   ]
  },
  {
   "cell_type": "code",
   "execution_count": 2,
   "metadata": {},
   "outputs": [],
   "source": [
    "hook = sy.TorchHook(verbose=False)\n",
    "me = hook.local_worker\n",
    "bob = sy.VirtualWorker(id=\"bob\",hook=hook, is_client_worker=False)\n",
    "alice = sy.VirtualWorker(id=\"alice\",hook=hook, is_client_worker=False)\n",
    "me.is_client_worker = False\n",
    "\n",
    "bob.add_workers([alice])\n",
    "alice.add_workers([bob])"
   ]
  },
  {
   "cell_type": "markdown",
   "metadata": {},
   "source": [
    "Declaring operation or transformation without or with `eval()` of these transformations"
   ]
  },
  {
   "cell_type": "code",
   "execution_count": 14,
   "metadata": {},
   "outputs": [
    {
     "name": "stdout",
     "output_type": "stream",
     "text": [
      "FloatTensor > _FixedPrecisionTensor > _LocalTensor\n",
      "INFO:Session started with bob, (secure: False)\n",
      "INFO:bob:Executing cmd torch.add\n",
      "INFO:Closing session\n",
      "LongTensor > _FixedPrecisionTensor > _LocalTensor\n",
      "[Head of chain]\n",
      "\n",
      " 2.2000e+06\n",
      "[syft.core.frameworks.torch.tensor.LongTensor of size 1]\n",
      "\n"
     ]
    }
   ],
   "source": [
    "x = sy.FloatTensor([1.1])\n",
    "x.fix_precision()\n",
    "#x = x.eval()\n",
    "chain_print(x)\n",
    "\n",
    "with sy.session(bob):\n",
    "    # Here all the commands and ensors are sent to bob\n",
    "    z = torch.add(x, x)\n",
    "    \n",
    "chain_print(z)\n",
    "print(z)"
   ]
  },
  {
   "cell_type": "code",
   "execution_count": null,
   "metadata": {},
   "outputs": [],
   "source": []
  }
 ],
 "metadata": {
  "kernelspec": {
   "display_name": "Python 3",
   "language": "python",
   "name": "python3"
  },
  "language_info": {
   "codemirror_mode": {
    "name": "ipython",
    "version": 3
   },
   "file_extension": ".py",
   "mimetype": "text/x-python",
   "name": "python",
   "nbconvert_exporter": "python",
   "pygments_lexer": "ipython3",
   "version": "3.6.4"
  }
 },
 "nbformat": 4,
 "nbformat_minor": 2
}
