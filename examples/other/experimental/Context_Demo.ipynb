{
 "cells": [
  {
   "cell_type": "markdown",
   "metadata": {},
   "source": [
    "## Demo with contexts"
   ]
  },
  {
   "cell_type": "code",
   "execution_count": 1,
   "metadata": {},
   "outputs": [],
   "source": [
    "import syft as sy\n",
    "import torch"
   ]
  },
  {
   "cell_type": "code",
   "execution_count": 2,
   "metadata": {},
   "outputs": [],
   "source": [
    "hook = sy.TorchHook(verbose=False)\n",
    "me = hook.local_worker\n",
    "bob = sy.VirtualWorker(id=\"bob\",hook=hook, is_client_worker=False)\n",
    "alice = sy.VirtualWorker(id=\"alice\",hook=hook, is_client_worker=False)\n",
    "me.is_client_worker = False\n",
    "\n",
    "bob.add_workers([alice])\n",
    "alice.add_workers([bob])"
   ]
  },
  {
   "cell_type": "code",
   "execution_count": 3,
   "metadata": {},
   "outputs": [
    {
     "name": "stdout",
     "output_type": "stream",
     "text": [
      "INFO:Session started with bob, (secure: False)\n",
      "INFO:bob:Executing cmd torch.add\n",
      "INFO:Closing session\n",
      "\n",
      " 2.4000\n",
      "[syft.core.frameworks.torch.tensor.FloatTensor of size 1]\n",
      "\n"
     ]
    }
   ],
   "source": [
    "x = sy.FloatTensor([1.2])\n",
    "\n",
    "#x.send(bob) #<- This is what you don't need to do\n",
    "\n",
    "with sy.session(bob):\n",
    "    # Here all the commands and ensors are sent to bob\n",
    "    z = torch.add(x, x)\n",
    "\n",
    "#z.get() or x.get() #<- This is what you don't need to do\n",
    "\n",
    "print(z) # This is FloatTensor"
   ]
  },
  {
   "cell_type": "code",
   "execution_count": null,
   "metadata": {},
   "outputs": [],
   "source": []
  }
 ],
 "metadata": {
  "kernelspec": {
   "display_name": "Python 3",
   "language": "python",
   "name": "python3"
  },
  "language_info": {
   "codemirror_mode": {
    "name": "ipython",
    "version": 3
   },
   "file_extension": ".py",
   "mimetype": "text/x-python",
   "name": "python",
   "nbconvert_exporter": "python",
   "pygments_lexer": "ipython3",
   "version": "3.6.4"
  }
 },
 "nbformat": 4,
 "nbformat_minor": 2
}
